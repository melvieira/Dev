{
  "nbformat": 4,
  "nbformat_minor": 0,
  "metadata": {
    "colab": {
      "provenance": [],
      "authorship_tag": "ABX9TyORJ+QDhWjl3i6KkSNt8Cpr",
      "include_colab_link": true
    },
    "kernelspec": {
      "name": "python3",
      "display_name": "Python 3"
    },
    "language_info": {
      "name": "python"
    }
  },
  "cells": [
    {
      "cell_type": "markdown",
      "metadata": {
        "id": "view-in-github",
        "colab_type": "text"
      },
      "source": [
        "<a href=\"https://colab.research.google.com/github/melvieira/Dev/blob/main/MonthlyExpensesCalculator.ipynb\" target=\"_parent\"><img src=\"https://colab.research.google.com/assets/colab-badge.svg\" alt=\"Open In Colab\"/></a>"
      ]
    },
    {
      "cell_type": "code",
      "execution_count": null,
      "metadata": {
        "colab": {
          "base_uri": "https://localhost:8080/"
        },
        "id": "qWIGckh-c3kI",
        "outputId": "1b058594-3cff-42f7-9e84-076c55e070a0"
      },
      "outputs": [
        {
          "output_type": "stream",
          "name": "stdout",
          "text": [
            "Enter rent amount:1000\n",
            "Enter groceries total:300\n",
            "Enter utilities total150\n",
            "Any other expenses:50\n",
            "Your total monthly expenses total to $1500.00\n"
          ]
        }
      ],
      "source": [
        "# def monthlyExpenses():\n",
        "#   rent = float(input(\"Enter rent amount:\"))\n",
        "#   groceries = float(input(\"Enter groceries total:\"))\n",
        "#   utilities = float(input(\"Enter utilities total\"))\n",
        "#   otherExpenses = float(input(\"Any other expenses:\"))\n",
        "\n",
        "#   sum = rent + groceries + utilities + otherExpenses\n",
        "#   print function only prints 1 decimal place when test inputs are used 1000, 300, 150, 50\n",
        "#   print(f\"Your total monthly expenses total to ${round(sum,2)}\")\n",
        "\n",
        "# monthlyExpenses()\n",
        "\n",
        "\n",
        "def monthlyExpenses():\n",
        "  rent = float(input(\"Enter rent amount:\"))\n",
        "  groceries = float(input(\"Enter groceries total:\"))\n",
        "  utilities = float(input(\"Enter utilities total:\"))\n",
        "  otherExpenses = float(input(\"Any other expenses:\"))\n",
        "\n",
        "  sum = rent + groceries + utilities + otherExpenses\n",
        "  print(f\"Your total monthly expenses total to ${sum:.2f}\")\n",
        "\n",
        "monthlyExpenses()\n",
        "\n"
      ]
    }
  ]
}